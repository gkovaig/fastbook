{
 "cells": [
  {
   "cell_type": "code",
   "execution_count": 1,
   "id": "surrounded-cradle",
   "metadata": {},
   "outputs": [],
   "source": [
    "from fastbook import *"
   ]
  },
  {
   "cell_type": "code",
   "execution_count": 3,
   "id": "prompt-bruce",
   "metadata": {},
   "outputs": [
    {
     "data": {
      "text/plain": [
       "<function Tensor.float>"
      ]
     },
     "execution_count": 3,
     "metadata": {},
     "output_type": "execute_result"
    }
   ],
   "source": [
    "# continue to reproduce 'from scratch' end-to-end SGD example\n",
    "x = torch.arange(0,20).float; x"
   ]
  },
  {
   "cell_type": "code",
   "execution_count": 23,
   "id": "under-geometry",
   "metadata": {},
   "outputs": [
    {
     "data": {
      "text/plain": [
       "tensor([ 0.,  1.,  2.,  3.,  4.,  5.,  6.,  7.,  8.,  9., 10., 11., 12., 13., 14., 15., 16., 17., 18., 19.])"
      ]
     },
     "execution_count": 23,
     "metadata": {},
     "output_type": "execute_result"
    }
   ],
   "source": [
    "# need to use torch.arange() torch.range() is deprecated\n",
    "# need to use .float() to apply a method on the tensor\n",
    "# (we are not retrieving a property)\n",
    "x = torch.arange(0, 20).float(); x"
   ]
  },
  {
   "cell_type": "code",
   "execution_count": 24,
   "id": "liquid-three",
   "metadata": {},
   "outputs": [
    {
     "data": {
      "text/plain": [
       "<matplotlib.collections.PathCollection at 0x7fcfab88ec70>"
      ]
     },
     "execution_count": 24,
     "metadata": {},
     "output_type": "execute_result"
    },
    {
     "data": {
      "image/png": "[encoded data removed]",
      "text/plain": [
       "<Figure size 432x288 with 1 Axes>"
      ]
     },
     "metadata": {
      "needs_background": "light"
     },
     "output_type": "display_data"
    }
   ],
   "source": [
    "y = 0.75 * (x - 9.5) ** 2 + 1 + torch.randn(20) # quadratic + noise\n",
    "# plot_function(x, y) # works only on a function\n",
    "plt.scatter(x,y)"
   ]
  },
  {
   "cell_type": "code",
   "execution_count": 25,
   "id": "adverse-atlantic",
   "metadata": {},
   "outputs": [],
   "source": [
    "# recast quadratic equation as input and parameters\n",
    "# rather than find the optimal function from infinite number of functions\n",
    "# we are given the hint that our function is quadratic\n",
    "# we want to find the 3 parameters a,b,c\n",
    "# at which point we have found the optimal function we seek\n",
    "\n",
    "def f(x, params):\n",
    "    a, b, c = params # split out 3 params\n",
    "    return a*(x**2) + (b*x) + c"
   ]
  },
  {
   "cell_type": "code",
   "execution_count": 43,
   "id": "comparative-keeping",
   "metadata": {},
   "outputs": [],
   "source": [
    "# we know target is continuous; hence we choose mse as our loss func\n",
    "# def loss_func(predictions, targets):\n",
    "#     return ((predictions - targets) ** 2).mean().sqrt()\n",
    "\n",
    "# try without sqrt()\n",
    "def loss_func(predictions, targets):\n",
    "    return ((predictions - targets) ** 2).mean()"
   ]
  },
  {
   "cell_type": "code",
   "execution_count": 44,
   "id": "empty-victim",
   "metadata": {},
   "outputs": [
    {
     "data": {
      "text/plain": [
       "tensor([ 2.1174, -1.7118,  0.1651], requires_grad=True)"
      ]
     },
     "execution_count": 44,
     "metadata": {},
     "output_type": "execute_result"
    }
   ],
   "source": [
    "# now to apply 7 step process\n",
    "# step 1: init params\n",
    "params = torch.randn(3).requires_grad_()\n",
    "params"
   ]
  },
  {
   "cell_type": "code",
   "execution_count": 45,
   "id": "colored-muscle",
   "metadata": {},
   "outputs": [
    {
     "data": {
      "text/plain": [
       "tensor([1.6513e-01, 5.7073e-01, 5.2111e+00, 1.4086e+01, 2.7196e+01, 4.4541e+01, 6.6121e+01, 9.1935e+01, 1.2198e+02, 1.5627e+02, 1.9479e+02, 2.3754e+02, 2.8453e+02, 3.3575e+02, 3.9121e+02, 4.5090e+02,\n",
       "        5.1483e+02, 5.8299e+02, 6.5539e+02, 7.3202e+02], grad_fn=<AddBackward0>)"
      ]
     },
     "execution_count": 45,
     "metadata": {},
     "output_type": "execute_result"
    }
   ],
   "source": [
    "# step 2: calc predictions\n",
    "preds = f(x, params)\n",
    "preds"
   ]
  },
  {
   "cell_type": "code",
   "execution_count": 46,
   "id": "quantitative-folks",
   "metadata": {},
   "outputs": [
    {
     "data": {
      "text/plain": [
       "torch.Size([20])"
      ]
     },
     "execution_count": 46,
     "metadata": {},
     "output_type": "execute_result"
    }
   ],
   "source": [
    "preds.shape"
   ]
  },
  {
   "cell_type": "code",
   "execution_count": 47,
   "id": "likely-bumper",
   "metadata": {},
   "outputs": [
    {
     "data": {
      "image/png": "[encoded data removed]",
      "text/plain": [
       "<Figure size 432x288 with 1 Axes>"
      ]
     },
     "metadata": {
      "needs_background": "light"
     },
     "output_type": "display_data"
    }
   ],
   "source": [
    "# viz\n",
    "def show_preds(preds, ax=None):\n",
    "    if ax is None:\n",
    "        ax = plt.subplots()[1]\n",
    "    ax.scatter(x, y)\n",
    "    ax.scatter(x, to_np(preds), color='red') # tensor -> numpy\n",
    "\n",
    "show_preds(preds)"
   ]
  },
  {
   "cell_type": "code",
   "execution_count": 48,
   "id": "expanded-round",
   "metadata": {},
   "outputs": [
    {
     "data": {
      "text/plain": [
       "tensor(98972.6641, grad_fn=<MeanBackward0>)"
      ]
     },
     "execution_count": 48,
     "metadata": {},
     "output_type": "execute_result"
    }
   ],
   "source": [
    "# step 3: calc loss\n",
    "loss = loss_func(preds, y)\n",
    "loss"
   ]
  },
  {
   "cell_type": "code",
   "execution_count": 49,
   "id": "furnished-world",
   "metadata": {
    "scrolled": true
   },
   "outputs": [
    {
     "data": {
      "text/plain": [
       "tensor([105182.4219,   6725.1533,    438.3566])"
      ]
     },
     "execution_count": 49,
     "metadata": {},
     "output_type": "execute_result"
    }
   ],
   "source": [
    "# step 4: calc gradient\n",
    "loss.backward() # ??? backward() applied on loss\n",
    "params.grad"
   ]
  },
  {
   "cell_type": "code",
   "execution_count": 50,
   "id": "accessible-strategy",
   "metadata": {},
   "outputs": [
    {
     "data": {
      "text/plain": [
       "tensor([ 2.1174, -1.7118,  0.1651], requires_grad=True)"
      ]
     },
     "execution_count": 50,
     "metadata": {},
     "output_type": "execute_result"
    }
   ],
   "source": [
    "params # note params is different from params.grad\n",
    "# but params did not change, yet"
   ]
  },
  {
   "cell_type": "code",
   "execution_count": 51,
   "id": "bronze-resistance",
   "metadata": {},
   "outputs": [],
   "source": [
    "# step 5: apply step function\n",
    "lr = 1e-5\n",
    "params.data -= params.grad.data * lr # notice use of .data\n",
    "# if we had not separately asked for params.grad 2 cells ago,\n",
    "# could have used params.data -= params.\n",
    "params.grad = None"
   ]
  },
  {
   "cell_type": "code",
   "execution_count": 52,
   "id": "constant-titanium",
   "metadata": {},
   "outputs": [
    {
     "data": {
      "text/plain": [
       "tensor([ 1.0656, -1.7791,  0.1608], requires_grad=True)"
      ]
     },
     "execution_count": 52,
     "metadata": {},
     "output_type": "execute_result"
    }
   ],
   "source": [
    "params"
   ]
  },
  {
   "cell_type": "code",
   "execution_count": 53,
   "id": "searching-porter",
   "metadata": {},
   "outputs": [
    {
     "name": "stdout",
     "output_type": "stream",
     "text": [
      "tensor([ 1.6075e-01, -5.5273e-01,  8.6495e-01,  4.4138e+00,  1.0094e+01,  1.7905e+01,  2.7847e+01,  3.9921e+01,  5.4125e+01,  7.0461e+01,  8.8928e+01,  1.0953e+02,  1.3226e+02,  1.5712e+02,\n",
      "         1.8411e+02,  2.1323e+02,  2.4448e+02,  2.7787e+02,  3.1338e+02,  3.5103e+02], grad_fn=<AddBackward0>)\n"
     ]
    },
    {
     "data": {
      "image/png": "[encoded data removed]",
      "text/plain": [
       "<Figure size 432x288 with 1 Axes>"
      ]
     },
     "metadata": {
      "needs_background": "light"
     },
     "output_type": "display_data"
    }
   ],
   "source": [
    "# step 6: make preds again, check for loss, see if improved\n",
    "preds = f(x, params)\n",
    "print(preds)\n",
    "show_preds(preds)"
   ]
  },
  {
   "cell_type": "code",
   "execution_count": null,
   "id": "comparable-union",
   "metadata": {},
   "outputs": [],
   "source": [
    "# no improvement???\n",
    "# likely because we called params.grad already,\n",
    "# hence no effect when we call params.grad.data\n",
    "\n",
    "# notice in function below we do not call params.grad separately"
   ]
  },
  {
   "cell_type": "code",
   "execution_count": 54,
   "id": "modified-poster",
   "metadata": {},
   "outputs": [
    {
     "name": "stdout",
     "output_type": "stream",
     "text": [
      "19266.927734375\n",
      "4184.1533203125\n",
      "1330.0223388671875\n",
      "789.9236450195312\n",
      "687.7108154296875\n",
      "668.3594360351562\n",
      "664.6878662109375\n",
      "663.9835205078125\n",
      "663.840576171875\n",
      "663.8038330078125\n"
     ]
    }
   ],
   "source": [
    "# repeat loop\n",
    "def apply_step(params, prn=True):\n",
    "    preds = f(x, params)\n",
    "    loss = loss_func(preds, y)\n",
    "    loss.backward()\n",
    "    params.data -= lr * params.grad.data\n",
    "    params.grad = None\n",
    "    if prn:\n",
    "        print(loss.item()) # interesting syntax\n",
    "    return preds\n",
    "\n",
    "for i in range(10): apply_step(params)"
   ]
  },
  {
   "cell_type": "code",
   "execution_count": 55,
   "id": "sustainable-singing",
   "metadata": {},
   "outputs": [
    {
     "data": {
      "image/png": "[encoded data removed]",
      "text/plain": [
       "<Figure size 864x216 with 4 Axes>"
      ]
     },
     "metadata": {
      "needs_background": "light"
     },
     "output_type": "display_data"
    }
   ],
   "source": [
    "_, axs = plt.subplots(1, 4, figsize=(12,3))\n",
    "for ax in axs:\n",
    "    show_preds(apply_step(params, False), ax)\n",
    "\n",
    "plt.tight_layout()\n",
    "# seems to have stopped improving because we had 10 iterations above"
   ]
  },
  {
   "cell_type": "code",
   "execution_count": 56,
   "id": "agricultural-grammar",
   "metadata": {},
   "outputs": [
    {
     "data": {
      "image/png": "[encoded data removed]",
      "text/plain": [
       "<Figure size 864x216 with 4 Axes>"
      ]
     },
     "metadata": {
      "needs_background": "light"
     },
     "output_type": "display_data"
    }
   ],
   "source": [
    "# re-init params and re-do\n",
    "params = torch.randn(3).requires_grad_()\n",
    "\n",
    "_, axs = plt.subplots(1, 4, figsize=(12,3))\n",
    "for ax in axs:\n",
    "    show_preds(apply_step(params, False), ax)\n",
    "\n",
    "plt.tight_layout()"
   ]
  },
  {
   "cell_type": "code",
   "execution_count": 57,
   "id": "frank-complexity",
   "metadata": {},
   "outputs": [
    {
     "data": {
      "image/png": "[encoded data removed]",
      "text/plain": [
       "<Figure size 864x216 with 4 Axes>"
      ]
     },
     "metadata": {
      "needs_background": "light"
     },
     "output_type": "display_data"
    }
   ],
   "source": [
    "# notice change in vertical scale -- model is improving!\n",
    "# repeat 4 more iterations\n",
    "_, axs = plt.subplots(1, 4, figsize=(12,3))\n",
    "for ax in axs:\n",
    "    show_preds(apply_step(params, False), ax)\n",
    "\n",
    "plt.tight_layout()"
   ]
  },
  {
   "cell_type": "code",
   "execution_count": 58,
   "id": "clear-praise",
   "metadata": {},
   "outputs": [
    {
     "data": {
      "image/png": "[encoded data removed]",
      "text/plain": [
       "<Figure size 864x216 with 4 Axes>"
      ]
     },
     "metadata": {
      "needs_background": "light"
     },
     "output_type": "display_data"
    }
   ],
   "source": [
    "_, axs = plt.subplots(1, 4, figsize=(12,3))\n",
    "for ax in axs:\n",
    "    show_preds(apply_step(params, False), ax)\n",
    "\n",
    "plt.tight_layout()"
   ]
  },
  {
   "cell_type": "code",
   "execution_count": null,
   "id": "fourth-error",
   "metadata": {},
   "outputs": [],
   "source": [
    "# stopped improving - perhaps a higher lr might help"
   ]
  }
 ],
 "metadata": {
  "kernelspec": {
   "display_name": "Python 3",
   "language": "python",
   "name": "python3"
  },
  "language_info": {
   "codemirror_mode": {
    "name": "ipython",
    "version": 3
   },
   "file_extension": ".py",
   "mimetype": "text/x-python",
   "name": "python",
   "nbconvert_exporter": "python",
   "pygments_lexer": "ipython3",
   "version": "3.8.2"
  }
 },
 "nbformat": 4,
 "nbformat_minor": 5
}
