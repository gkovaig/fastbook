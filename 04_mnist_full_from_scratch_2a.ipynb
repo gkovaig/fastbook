{
 "cells": [
  {
   "cell_type": "code",
   "execution_count": 1,
   "id": "effective-purpose",
   "metadata": {},
   "outputs": [],
   "source": [
    "# ch 4 page 163 - implement MNIST from scratch using all digits"
   ]
  },
  {
   "cell_type": "code",
   "execution_count": 2,
   "id": "current-death",
   "metadata": {},
   "outputs": [],
   "source": [
    "from fastbook import *"
   ]
  },
  {
   "cell_type": "code",
   "execution_count": 3,
   "id": "nearby-shoulder",
   "metadata": {},
   "outputs": [],
   "source": [
    "path = untar_data(URLs.MNIST)"
   ]
  },
  {
   "cell_type": "code",
   "execution_count": 4,
   "id": "authentic-percentage",
   "metadata": {},
   "outputs": [
    {
     "data": {
      "text/plain": [
       "Path('/Users/rnm/.fastai/data/mnist_png')"
      ]
     },
     "execution_count": 4,
     "metadata": {},
     "output_type": "execute_result"
    }
   ],
   "source": [
    "path"
   ]
  },
  {
   "cell_type": "code",
   "execution_count": 5,
   "id": "loose-accountability",
   "metadata": {},
   "outputs": [
    {
     "data": {
      "text/plain": [
       "(#3) [Path('/Users/rnm/.fastai/data/mnist_png/.DS_Store'),Path('/Users/rnm/.fastai/data/mnist_png/training'),Path('/Users/rnm/.fastai/data/mnist_png/testing')]"
      ]
     },
     "execution_count": 5,
     "metadata": {},
     "output_type": "execute_result"
    }
   ],
   "source": [
    "path.ls()"
   ]
  },
  {
   "cell_type": "code",
   "execution_count": 7,
   "id": "defensive-aaron",
   "metadata": {},
   "outputs": [
    {
     "data": {
      "text/plain": [
       "(#3) [Path('.DS_Store'),Path('training'),Path('testing')]"
      ]
     },
     "execution_count": 7,
     "metadata": {},
     "output_type": "execute_result"
    }
   ],
   "source": [
    "Path.BASE_PATH = path\n",
    "path.ls()"
   ]
  },
  {
   "cell_type": "code",
   "execution_count": 8,
   "id": "extra-abuse",
   "metadata": {},
   "outputs": [
    {
     "name": "stdout",
     "output_type": "stream",
     "text": [
      "    6131\n"
     ]
    }
   ],
   "source": [
    "!ls {path}/'training/3' | wc -l"
   ]
  },
  {
   "cell_type": "code",
   "execution_count": 9,
   "id": "contrary-links",
   "metadata": {},
   "outputs": [
    {
     "name": "stdout",
     "output_type": "stream",
     "text": [
      "\u001b[34m0\u001b[m\u001b[m \u001b[34m1\u001b[m\u001b[m \u001b[34m2\u001b[m\u001b[m \u001b[34m3\u001b[m\u001b[m \u001b[34m4\u001b[m\u001b[m \u001b[34m5\u001b[m\u001b[m \u001b[34m6\u001b[m\u001b[m \u001b[34m7\u001b[m\u001b[m \u001b[34m8\u001b[m\u001b[m \u001b[34m9\u001b[m\u001b[m\n"
     ]
    }
   ],
   "source": [
    "!ls {path}/'training'"
   ]
  },
  {
   "cell_type": "code",
   "execution_count": 10,
   "id": "unnecessary-alexander",
   "metadata": {},
   "outputs": [],
   "source": [
    "DIGITS = range(0, 10)"
   ]
  },
  {
   "cell_type": "code",
   "execution_count": 11,
   "id": "mature-virus",
   "metadata": {},
   "outputs": [],
   "source": [
    "train_digit_paths = [(path/'training'/str(digit)).ls().sorted()\n",
    "                        for digit in DIGITS]\n",
    "valid_digit_paths = [(path/'testing'/str(digit)).ls().sorted()\n",
    "                        for digit in DIGITS]"
   ]
  },
  {
   "cell_type": "code",
   "execution_count": 12,
   "id": "official-cowboy",
   "metadata": {},
   "outputs": [
    {
     "data": {
      "image/png": "[encoded data removed]",
      "text/plain": [
       "<PIL.PngImagePlugin.PngImageFile image mode=L size=28x28 at 0x7F80F6447100>"
      ]
     },
     "execution_count": 12,
     "metadata": {},
     "output_type": "execute_result"
    }
   ],
   "source": [
    "Image.open(train_digit_paths[9][-1])"
   ]
  },
  {
   "cell_type": "code",
   "execution_count": 14,
   "id": "shared-tomorrow",
   "metadata": {},
   "outputs": [
    {
     "name": "stdout",
     "output_type": "stream",
     "text": [
      "Train 0 5923\n",
      "Train 1 6742\n",
      "Train 2 5958\n",
      "Train 3 6131\n",
      "Train 4 5842\n",
      "Train 5 5421\n",
      "Train 6 5918\n",
      "Train 7 6265\n",
      "Train 8 5851\n",
      "Train 9 5949\n",
      "Valid 0 980\n",
      "Valid 1 1135\n",
      "Valid 2 1032\n",
      "Valid 3 1010\n",
      "Valid 4 982\n",
      "Valid 5 892\n",
      "Valid 6 958\n",
      "Valid 7 1028\n",
      "Valid 8 974\n",
      "Valid 9 1009\n"
     ]
    }
   ],
   "source": [
    "for d in DIGITS:\n",
    "    print('Train', d, len(train_digit_paths[d]))\n",
    "for d in DIGITS:\n",
    "    print('Valid', d, len(valid_digit_paths[d]))"
   ]
  },
  {
   "cell_type": "code",
   "execution_count": 36,
   "id": "mounted-europe",
   "metadata": {},
   "outputs": [
    {
     "data": {
      "text/plain": [
       "60000"
      ]
     },
     "execution_count": 36,
     "metadata": {},
     "output_type": "execute_result"
    }
   ],
   "source": [
    "len(torch.cat([tensor([d] * len(train_digit_paths[d])) for d in DIGITS]))"
   ]
  },
  {
   "cell_type": "code",
   "execution_count": 21,
   "id": "canadian-richards",
   "metadata": {},
   "outputs": [],
   "source": [
    "'''train_x = [torch.stack([tensor(Image.open(img))\n",
    "                          for img in train_digit_paths[d]])\n",
    "                          for d in [3,7]]\n",
    "type(train_x), train_x[1].shape'''"
   ]
  },
  {
   "cell_type": "code",
   "execution_count": 23,
   "id": "meaning-madness",
   "metadata": {},
   "outputs": [
    {
     "data": {
      "text/plain": [
       "(torch.Size([60000, 784]), torch.Size([60000, 784]))"
      ]
     },
     "execution_count": 23,
     "metadata": {},
     "output_type": "execute_result"
    }
   ],
   "source": [
    "train_x = torch.cat([torch.stack([tensor(Image.open(img))\n",
    "                          for img in train_digit_paths[d]])\n",
    "                          for d in DIGITS]).view(-1, 28*28).float()/255\n",
    "valid_x = torch.cat([torch.stack([tensor(Image.open(img))\n",
    "                          for img in train_digit_paths[d]])\n",
    "                          for d in DIGITS]).view(-1, 28*28).float()/255\n",
    "train_x.shape, valid_x.shape"
   ]
  },
  {
   "cell_type": "code",
   "execution_count": 28,
   "id": "rental-kernel",
   "metadata": {},
   "outputs": [
    {
     "data": {
      "text/plain": [
       "(torch.Size([28, 28]), <AxesSubplot:>)"
      ]
     },
     "execution_count": 28,
     "metadata": {},
     "output_type": "execute_result"
    },
    {
     "data": {
      "image/png": "[encoded data removed]",
      "text/plain": [
       "<Figure size 72x72 with 1 Axes>"
      ]
     },
     "metadata": {
      "needs_background": "light"
     },
     "output_type": "display_data"
    }
   ],
   "source": [
    "train_x[0].view(28,28).shape, show_image(train_x[-1].view(28,28))"
   ]
  },
  {
   "cell_type": "code",
   "execution_count": 37,
   "id": "confused-peeing",
   "metadata": {},
   "outputs": [],
   "source": [
    "train_y = torch.cat([tensor([d] * len(train_digit_paths[d])) for d in DIGITS]).unsqueeze(1)\n",
    "valid_y = torch.cat([tensor([d] * len(valid_digit_paths[d])) for d in DIGITS]).unsqueeze(1)"
   ]
  },
  {
   "cell_type": "code",
   "execution_count": 38,
   "id": "cooperative-discharge",
   "metadata": {},
   "outputs": [
    {
     "name": "stdout",
     "output_type": "stream",
     "text": [
      "torch.Size([784]) torch.Size([1])\n"
     ]
    }
   ],
   "source": [
    "train = list(zip(train_x, train_y))\n",
    "valid = list(zip(valid_x, valid_y))\n",
    "\n",
    "x, y = train[-1]\n",
    "print(x.shape, y.shape)"
   ]
  },
  {
   "cell_type": "code",
   "execution_count": 43,
   "id": "micro-jumping",
   "metadata": {},
   "outputs": [],
   "source": [
    "def init_parms(size, var=1.0):\n",
    "    std = math.sqrt(var) # torch.exp(var ** 0.5)\n",
    "    return (torch.randn(size)*std).requires_grad_()"
   ]
  },
  {
   "cell_type": "code",
   "execution_count": 45,
   "id": "hollow-martin",
   "metadata": {},
   "outputs": [
    {
     "name": "stdout",
     "output_type": "stream",
     "text": [
      "torch.Size([784, 1]) torch.Size([1])\n"
     ]
    }
   ],
   "source": [
    "# initialze parameters\n",
    "weights = init_parms((28*28, 1), 1.) # note 2 parens - all get assigned to size\n",
    "bias = init_parms(1)\n",
    "print(weights.shape, bias.shape)"
   ]
  },
  {
   "cell_type": "code",
   "execution_count": 48,
   "id": "entitled-rebate",
   "metadata": {},
   "outputs": [
    {
     "data": {
      "text/plain": [
       "tensor([[ 9.4907],\n",
       "        [-3.8088],\n",
       "        [ 9.7050],\n",
       "        ...,\n",
       "        [-0.3274],\n",
       "        [ 8.3987],\n",
       "        [-8.9431]], grad_fn=<AddBackward0>)"
      ]
     },
     "execution_count": 48,
     "metadata": {},
     "output_type": "execute_result"
    }
   ],
   "source": [
    "# define hidden linear layer\n",
    "def linear1(x):\n",
    "    return x@weights + bias\n",
    "\n",
    "preds = linear1(train_x)\n",
    "preds"
   ]
  },
  {
   "cell_type": "code",
   "execution_count": 49,
   "id": "infrared-enclosure",
   "metadata": {},
   "outputs": [],
   "source": [
    "# define loss func as softmax (cross-entropy)\n",
    "def loss_func(x):\n",
    "    return exp(x) / exp(x).sum(dim=1, keepdim=True)"
   ]
  },
  {
   "cell_type": "code",
   "execution_count": 50,
   "id": "guided-karaoke",
   "metadata": {},
   "outputs": [],
   "source": [
    "# check if batching needed at atll - i.e. use entire dataset"
   ]
  },
  {
   "cell_type": "code",
   "execution_count": 53,
   "id": "fluid-travel",
   "metadata": {},
   "outputs": [
    {
     "data": {
      "text/plain": [
       "(torch.Size([5, 784]), torch.Size([5, 1]))"
      ]
     },
     "execution_count": 53,
     "metadata": {},
     "output_type": "execute_result"
    }
   ],
   "source": [
    "# mini-batch desirable to fit into exisitng memory cpu/gpu and have reasonable runtime\n",
    "# also permits iteration with shuffling\n",
    "# need: item should be tuple of predictors and target\n",
    "dl = DataLoader(train, batch_size=5, shuffle=True)\n",
    "xb, yb = first(dl)\n",
    "xb.shape, yb.shape"
   ]
  },
  {
   "cell_type": "code",
   "execution_count": 54,
   "id": "bound-mustang",
   "metadata": {},
   "outputs": [
    {
     "data": {
      "text/plain": [
       "tensor([[-13.5760],\n",
       "        [ -4.6685],\n",
       "        [  8.7268],\n",
       "        [  2.7404],\n",
       "        [  5.9842]], grad_fn=<AddBackward0>)"
      ]
     },
     "execution_count": 54,
     "metadata": {},
     "output_type": "execute_result"
    }
   ],
   "source": [
    "preds = linear1(xb)\n",
    "preds"
   ]
  },
  {
   "cell_type": "code",
   "execution_count": 55,
   "id": "renewable-senator",
   "metadata": {},
   "outputs": [
    {
     "ename": "TypeError",
     "evalue": "loss_func() takes 1 positional argument but 2 were given",
     "output_type": "error",
     "traceback": [
      "\u001b[0;31m---------------------------------------------------------------------------\u001b[0m",
      "\u001b[0;31mTypeError\u001b[0m                                 Traceback (most recent call last)",
      "\u001b[0;32m<ipython-input-55-c545cf86c2bd>\u001b[0m in \u001b[0;36m<module>\u001b[0;34m\u001b[0m\n\u001b[0;32m----> 1\u001b[0;31m \u001b[0mloss\u001b[0m \u001b[0;34m=\u001b[0m \u001b[0mloss_func\u001b[0m\u001b[0;34m(\u001b[0m\u001b[0mpreds\u001b[0m\u001b[0;34m,\u001b[0m \u001b[0myb\u001b[0m\u001b[0;34m)\u001b[0m\u001b[0;34m\u001b[0m\u001b[0;34m\u001b[0m\u001b[0m\n\u001b[0m\u001b[1;32m      2\u001b[0m \u001b[0mloss\u001b[0m\u001b[0;34m\u001b[0m\u001b[0;34m\u001b[0m\u001b[0m\n",
      "\u001b[0;31mTypeError\u001b[0m: loss_func() takes 1 positional argument but 2 were given"
     ]
    }
   ],
   "source": [
    "loss = loss_func(preds, yb)\n",
    "loss"
   ]
  },
  {
   "cell_type": "code",
   "execution_count": null,
   "id": "nearby-passage",
   "metadata": {},
   "outputs": [],
   "source": []
  }
 ],
 "metadata": {
  "kernelspec": {
   "display_name": "Python 3",
   "language": "python",
   "name": "python3"
  },
  "language_info": {
   "codemirror_mode": {
    "name": "ipython",
    "version": 3
   },
   "file_extension": ".py",
   "mimetype": "text/x-python",
   "name": "python",
   "nbconvert_exporter": "python",
   "pygments_lexer": "ipython3",
   "version": "3.8.2"
  }
 },
 "nbformat": 4,
 "nbformat_minor": 5
}
